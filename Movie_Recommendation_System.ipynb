import pandas as pd
from sklearn.feature_extraction.text import TfidfVectorizer
from sklearn.metrics.pairwise import linear_kernel

movies = pd.read_csv('/content/movies.csv')

movies = movies.dropna()

tfidf = TfidfVectorizer(stop_words='english')

tfidf_matrix = tfidf.fit_transform(movies['overview'])

cosine_sim = linear_kernel(tfidf_matrix, tfidf_matrix)

def recommend_movies(movie_title, cosine_sim=cosine_sim):
    idx = movies[movies['title'] == movie_title].index[0]

    sim_scores = list(enumerate(cosine_sim[idx]))
    sim_scores = sorted(sim_scores, key=lambda x: x[1], reverse=True)
    sim_scores = sim_scores[1:11]


    movie_indices = [i[0] for i in sim_scores]

    return movies['title'].iloc[movie_indices]

recommendations = recommend_movies('Inception')
print(recommendations)
