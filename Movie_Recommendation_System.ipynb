{
  "nbformat": 4,
  "nbformat_minor": 0,
  "metadata": {
    "colab": {
      "provenance": []
    },
    "kernelspec": {
      "name": "python3",
      "display_name": "Python 3"
    },
    "language_info": {
      "name": "python"
    }
  },
  "cells": [
    {
      "cell_type": "code",
      "source": [
        "import pandas as pd\n",
        "from sklearn.feature_extraction.text import TfidfVectorizer\n",
        "from sklearn.metrics.pairwise import linear_kernel\n",
        "\n",
        "\n"
      ],
      "metadata": {
        "id": "7A8-Ep3-l15S"
      },
      "execution_count": 25,
      "outputs": []
    },
    {
      "cell_type": "code",
      "source": [
        "movies = pd.read_csv('/content/movie_dataset.csv')"
      ],
      "metadata": {
        "id": "MdGe6svIymI4"
      },
      "execution_count": 26,
      "outputs": []
    },
    {
      "cell_type": "code",
      "source": [
        "movies = movies.dropna()"
      ],
      "metadata": {
        "id": "dID1Ab3PyrhG"
      },
      "execution_count": 27,
      "outputs": []
    },
    {
      "cell_type": "code",
      "source": [
        "tfidf = TfidfVectorizer(stop_words='english')"
      ],
      "metadata": {
        "id": "N5qsN3Wlyuu4"
      },
      "execution_count": 16,
      "outputs": []
    },
    {
      "cell_type": "code",
      "source": [
        "tfidf_matrix = tfidf.fit_transform(movies['overview'])"
      ],
      "metadata": {
        "id": "yl6H-Qh8yw79"
      },
      "execution_count": 17,
      "outputs": []
    },
    {
      "cell_type": "code",
      "source": [
        "cosine_sim = linear_kernel(tfidf_matrix, tfidf_matrix)"
      ],
      "metadata": {
        "id": "9vRPUQqdyzXl"
      },
      "execution_count": 18,
      "outputs": []
    },
    {
      "cell_type": "code",
      "source": [
        "def recommend_movies(movie_title, cosine_sim=cosine_sim):\n",
        "    idx = movies[movies['title'] == movie_title].index[0]\n",
        "\n",
        "    sim_scores = list(enumerate(cosine_sim[idx]))\n",
        "    sim_scores = sorted(sim_scores, key=lambda x: x[1], reverse=True)\n",
        "    sim_scores = sim_scores[1:11]\n",
        "\n",
        "    movie_indices = [i[0] for i in sim_scores]\n",
        "\n",
        "    return movies['title'].iloc[movie_indices]"
      ],
      "metadata": {
        "id": "Vxkc-ffPy3LH"
      },
      "execution_count": 20,
      "outputs": []
    },
    {
      "cell_type": "code",
      "source": [
        "recommendations = recommend_movies('Inception')\n",
        "print(recommendations)"
      ],
      "metadata": {
        "colab": {
          "base_uri": "https://localhost:8080/"
        },
        "id": "E0YGZO7XzM0n",
        "outputId": "3db94e27-3d07-4428-948d-8ce2f0a3ff44"
      },
      "execution_count": 28,
      "outputs": [
        {
          "output_type": "stream",
          "name": "stdout",
          "text": [
            "2225              Inherent Vice\n",
            "781                    Inkheart\n",
            "1593          The Three Stooges\n",
            "271                  The Island\n",
            "2149            One Missed Call\n",
            "2071    Silver Linings Playbook\n",
            "1194         The Lincoln Lawyer\n",
            "1344       Hot Tub Time Machine\n",
            "2329                 Prom Night\n",
            "2109              Me Before You\n",
            "Name: title, dtype: object\n"
          ]
        }
      ]
    }
  ]
}